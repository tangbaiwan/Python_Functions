{
 "cells": [
  {
   "cell_type": "code",
   "execution_count": 1,
   "id": "3d9594ca",
   "metadata": {},
   "outputs": [
    {
     "data": {
      "text/plain": [
       "<function __main__.<lambda>(l)>"
      ]
     },
     "execution_count": 1,
     "metadata": {},
     "output_type": "execute_result"
    }
   ],
   "source": [
    "lambda l : l if len(l)<=1 else qsort([x for x in l[1:] if x < l[0]]) + [l[0]] + qsort([x for x in l[1:] if x >= l[0]])\n"
   ]
  },
  {
   "cell_type": "code",
   "execution_count": 2,
   "id": "3b75c7db",
   "metadata": {},
   "outputs": [
    {
     "data": {
      "text/plain": [
       "10"
      ]
     },
     "execution_count": 2,
     "metadata": {},
     "output_type": "execute_result"
    }
   ],
   "source": [
    "int('1010', 2)  "
   ]
  },
  {
   "cell_type": "code",
   "execution_count": 3,
   "id": "c71f26e3",
   "metadata": {},
   "outputs": [
    {
     "data": {
      "text/plain": [
       "'HI MY NAME IS ALLWIN'"
      ]
     },
     "execution_count": 3,
     "metadata": {},
     "output_type": "execute_result"
    }
   ],
   "source": [
    "\"hi my name is Allwin\".upper()  "
   ]
  },
  {
   "cell_type": "code",
   "execution_count": 4,
   "id": "dc44239d",
   "metadata": {},
   "outputs": [
    {
     "data": {
      "text/plain": [
       "'hi my name is allwin'"
      ]
     },
     "execution_count": 4,
     "metadata": {},
     "output_type": "execute_result"
    }
   ],
   "source": [
    "\"Hi my name is Allwin\".lower() "
   ]
  },
  {
   "cell_type": "code",
   "execution_count": null,
   "id": "3366e03b",
   "metadata": {},
   "outputs": [],
   "source": []
  },
  {
   "cell_type": "code",
   "execution_count": null,
   "id": "957e5130",
   "metadata": {},
   "outputs": [],
   "source": [
    "# 使用“for”和“if”的列表解析"
   ]
  },
  {
   "cell_type": "code",
   "execution_count": 5,
   "id": "376e102e",
   "metadata": {},
   "outputs": [
    {
     "data": {
      "text/plain": [
       "[2, 4]"
      ]
     },
     "execution_count": 5,
     "metadata": {},
     "output_type": "execute_result"
    }
   ],
   "source": [
    "[number for number in [1, 2, 3, 4] if number % 2 == 0]  # 使用“for”和“if”的列表解析"
   ]
  },
  {
   "cell_type": "code",
   "execution_count": null,
   "id": "a62b00ea",
   "metadata": {},
   "outputs": [],
   "source": []
  },
  {
   "cell_type": "code",
   "execution_count": null,
   "id": "55eac814",
   "metadata": {},
   "outputs": [],
   "source": [
    " # 从列表中得到最长的字符串"
   ]
  },
  {
   "cell_type": "code",
   "execution_count": 6,
   "id": "0a42f47b",
   "metadata": {},
   "outputs": [
    {
     "data": {
      "text/plain": [
       "'words'"
      ]
     },
     "execution_count": 6,
     "metadata": {},
     "output_type": "execute_result"
    }
   ],
   "source": [
    "words = ['This', 'is', 'a', 'list', 'of', 'words']     # 从列表中得到最长的字符串\n",
    "max(words, key=len)"
   ]
  },
  {
   "cell_type": "code",
   "execution_count": null,
   "id": "5a7d52a0",
   "metadata": {},
   "outputs": [],
   "source": []
  },
  {
   "cell_type": "code",
   "execution_count": null,
   "id": "37260cec",
   "metadata": {},
   "outputs": [],
   "source": [
    "# 反转列表"
   ]
  },
  {
   "cell_type": "code",
   "execution_count": 7,
   "id": "3683f220",
   "metadata": {},
   "outputs": [
    {
     "ename": "NameError",
     "evalue": "name 'numbers' is not defined",
     "output_type": "error",
     "traceback": [
      "\u001b[1;31m---------------------------------------------------------------------------\u001b[0m",
      "\u001b[1;31mNameError\u001b[0m                                 Traceback (most recent call last)",
      "\u001b[1;32m<ipython-input-7-50c407db94e1>\u001b[0m in \u001b[0;36m<module>\u001b[1;34m\u001b[0m\n\u001b[1;32m----> 1\u001b[1;33m \u001b[0mnumbers\u001b[0m\u001b[1;33m[\u001b[0m\u001b[1;33m:\u001b[0m\u001b[1;33m:\u001b[0m\u001b[1;33m-\u001b[0m\u001b[1;36m1\u001b[0m\u001b[1;33m]\u001b[0m\u001b[1;33m\u001b[0m\u001b[1;33m\u001b[0m\u001b[0m\n\u001b[0m",
      "\u001b[1;31mNameError\u001b[0m: name 'numbers' is not defined"
     ]
    }
   ],
   "source": [
    "numbers[::-1]\n"
   ]
  },
  {
   "cell_type": "code",
   "execution_count": null,
   "id": "9a2072a8",
   "metadata": {},
   "outputs": [],
   "source": []
  },
  {
   "cell_type": "code",
   "execution_count": null,
   "id": "b54b09ef",
   "metadata": {},
   "outputs": [],
   "source": [
    "# 计算字符串中的某个字符出现的频率"
   ]
  },
  {
   "cell_type": "code",
   "execution_count": 8,
   "id": "f2fc671f",
   "metadata": {},
   "outputs": [
    {
     "name": "stdout",
     "output_type": "stream",
     "text": [
      "2\n"
     ]
    }
   ],
   "source": [
    "print(\"umbrella\".count('l'))# 2"
   ]
  },
  {
   "cell_type": "code",
   "execution_count": null,
   "id": "e07f68b6",
   "metadata": {},
   "outputs": [],
   "source": []
  },
  {
   "cell_type": "code",
   "execution_count": null,
   "id": "5826c6a9",
   "metadata": {},
   "outputs": [],
   "source": [
    "# 时间戳"
   ]
  },
  {
   "cell_type": "code",
   "execution_count": 9,
   "id": "84120e3e",
   "metadata": {},
   "outputs": [
    {
     "name": "stdout",
     "output_type": "stream",
     "text": [
      "1649600318.8733535\n"
     ]
    }
   ],
   "source": [
    "import time; print(time.time())"
   ]
  },
  {
   "cell_type": "code",
   "execution_count": null,
   "id": "db965658",
   "metadata": {},
   "outputs": [],
   "source": []
  },
  {
   "cell_type": "code",
   "execution_count": null,
   "id": "27141459",
   "metadata": {},
   "outputs": [],
   "source": [
    "# 八进制转十进制"
   ]
  },
  {
   "cell_type": "code",
   "execution_count": 10,
   "id": "46370b5b",
   "metadata": {},
   "outputs": [
    {
     "data": {
      "text/plain": [
       "24"
      ]
     },
     "execution_count": 10,
     "metadata": {},
     "output_type": "execute_result"
    }
   ],
   "source": [
    "int('30', 8)"
   ]
  },
  {
   "cell_type": "code",
   "execution_count": null,
   "id": "827b24c6",
   "metadata": {},
   "outputs": [],
   "source": []
  },
  {
   "cell_type": "code",
   "execution_count": null,
   "id": "2229da19",
   "metadata": {},
   "outputs": [],
   "source": [
    "# 将键值对转换为字典"
   ]
  },
  {
   "cell_type": "code",
   "execution_count": 11,
   "id": "0c9af03b",
   "metadata": {},
   "outputs": [
    {
     "data": {
      "text/plain": [
       "{'name': 'allwin', 'age': 23}"
      ]
     },
     "execution_count": 11,
     "metadata": {},
     "output_type": "execute_result"
    }
   ],
   "source": [
    "dict(name='allwin', age=23)\n"
   ]
  },
  {
   "cell_type": "code",
   "execution_count": null,
   "id": "2f5439de",
   "metadata": {},
   "outputs": [],
   "source": []
  },
  {
   "cell_type": "code",
   "execution_count": null,
   "id": "f0dbd43b",
   "metadata": {},
   "outputs": [],
   "source": [
    "# 计算商和余数"
   ]
  },
  {
   "cell_type": "code",
   "execution_count": 13,
   "id": "9756d4ab",
   "metadata": {},
   "outputs": [],
   "source": [
    "quotient, remainder = divmod(4,5)"
   ]
  },
  {
   "cell_type": "code",
   "execution_count": null,
   "id": "98a24852",
   "metadata": {},
   "outputs": [],
   "source": []
  },
  {
   "cell_type": "code",
   "execution_count": null,
   "id": "ae60a42e",
   "metadata": {},
   "outputs": [],
   "source": [
    "#  获取一串小写字母"
   ]
  },
  {
   "cell_type": "code",
   "execution_count": 14,
   "id": "fcdc9b0b",
   "metadata": {},
   "outputs": [
    {
     "name": "stdout",
     "output_type": "stream",
     "text": [
      "abcdefghijklmnopqrstuvwxyz\n"
     ]
    }
   ],
   "source": [
    "import string; print(string.ascii_lowercase)"
   ]
  },
  {
   "cell_type": "code",
   "execution_count": null,
   "id": "61bc0303",
   "metadata": {},
   "outputs": [],
   "source": []
  },
  {
   "cell_type": "code",
   "execution_count": null,
   "id": "762a99f5",
   "metadata": {},
   "outputs": [],
   "source": [
    "# 获取一串大写字母"
   ]
  },
  {
   "cell_type": "code",
   "execution_count": 15,
   "id": "25265000",
   "metadata": {},
   "outputs": [
    {
     "name": "stdout",
     "output_type": "stream",
     "text": [
      "ABCDEFGHIJKLMNOPQRSTUVWXYZ\n"
     ]
    }
   ],
   "source": [
    "import string; print(string.ascii_uppercase)  "
   ]
  },
  {
   "cell_type": "code",
   "execution_count": null,
   "id": "ae1f7d84",
   "metadata": {},
   "outputs": [],
   "source": []
  },
  {
   "cell_type": "code",
   "execution_count": null,
   "id": "d5d4589a",
   "metadata": {},
   "outputs": [],
   "source": [
    "# 获取字符串类型的0到9的数字"
   ]
  },
  {
   "cell_type": "code",
   "execution_count": 16,
   "id": "255eddc8",
   "metadata": {},
   "outputs": [
    {
     "name": "stdout",
     "output_type": "stream",
     "text": [
      "0123456789\n"
     ]
    }
   ],
   "source": [
    "import string; print(string.digits)  "
   ]
  },
  {
   "cell_type": "code",
   "execution_count": null,
   "id": "0a6652ed",
   "metadata": {},
   "outputs": [],
   "source": []
  },
  {
   "cell_type": "code",
   "execution_count": null,
   "id": "2987be6c",
   "metadata": {},
   "outputs": [],
   "source": [
    "# 人类可读的日期时间"
   ]
  },
  {
   "cell_type": "code",
   "execution_count": 17,
   "id": "19d94f0b",
   "metadata": {},
   "outputs": [
    {
     "name": "stdout",
     "output_type": "stream",
     "text": [
      "Sun Apr 10 22:23:12 2022\n"
     ]
    }
   ],
   "source": [
    "import time; print(time.ctime())  "
   ]
  },
  {
   "cell_type": "code",
   "execution_count": null,
   "id": "00300c15",
   "metadata": {},
   "outputs": [],
   "source": []
  },
  {
   "cell_type": "code",
   "execution_count": null,
   "id": "26824c1d",
   "metadata": {},
   "outputs": [],
   "source": [
    "# 将列表元素的字符串类型转换为整型"
   ]
  },
  {
   "cell_type": "code",
   "execution_count": 18,
   "id": "829b3069",
   "metadata": {},
   "outputs": [
    {
     "data": {
      "text/plain": [
       "[1, 2, 3]"
      ]
     },
     "execution_count": 18,
     "metadata": {},
     "output_type": "execute_result"
    }
   ],
   "source": [
    "list(map(int, ['1', '2', '3']))  "
   ]
  },
  {
   "cell_type": "code",
   "execution_count": null,
   "id": "8476940c",
   "metadata": {},
   "outputs": [],
   "source": []
  },
  {
   "cell_type": "code",
   "execution_count": null,
   "id": "eaff38a7",
   "metadata": {},
   "outputs": [],
   "source": [
    "# 从字符串中删除数字"
   ]
  },
  {
   "cell_type": "code",
   "execution_count": 19,
   "id": "bd286719",
   "metadata": {},
   "outputs": [
    {
     "data": {
      "text/plain": [
       "'abcdeffgvcg'"
      ]
     },
     "execution_count": 19,
     "metadata": {},
     "output_type": "execute_result"
    }
   ],
   "source": [
    "''.join(list(filter(lambda x: x.isalpha(), 'abc123def4fg56vcg2')))  "
   ]
  },
  {
   "cell_type": "code",
   "execution_count": null,
   "id": "6298c7ca",
   "metadata": {},
   "outputs": [],
   "source": []
  },
  {
   "cell_type": "code",
   "execution_count": null,
   "id": "7f7ea74e",
   "metadata": {},
   "outputs": [],
   "source": [
    "# 从列表中过滤偶数"
   ]
  },
  {
   "cell_type": "code",
   "execution_count": 20,
   "id": "07248c45",
   "metadata": {},
   "outputs": [
    {
     "data": {
      "text/plain": [
       "[2, 4, 6]"
      ]
     },
     "execution_count": 20,
     "metadata": {},
     "output_type": "execute_result"
    }
   ],
   "source": [
    "list(filter(lambda x: x%2 == 0, [1, 2, 3, 4, 5, 6] ))  "
   ]
  },
  {
   "cell_type": "code",
   "execution_count": null,
   "id": "97a73121",
   "metadata": {},
   "outputs": [],
   "source": []
  },
  {
   "cell_type": "code",
   "execution_count": null,
   "id": "66063bb8",
   "metadata": {},
   "outputs": [],
   "source": [
    "# 列表推导式"
   ]
  },
  {
   "cell_type": "code",
   "execution_count": 21,
   "id": "447d48ba",
   "metadata": {},
   "outputs": [
    {
     "data": {
      "text/plain": [
       "['i', 'i', 'o', 'e', 'a', 'o', 'i']"
      ]
     },
     "execution_count": 21,
     "metadata": {},
     "output_type": "execute_result"
    }
   ],
   "source": [
    "def get_vowels(string):\n",
    "    return [vowel for vowel in string if vowel in 'aeiou']\n",
    "get_vowels('This is some random string')"
   ]
  },
  {
   "cell_type": "code",
   "execution_count": null,
   "id": "38ed8029",
   "metadata": {},
   "outputs": [],
   "source": []
  },
  {
   "cell_type": "code",
   "execution_count": null,
   "id": "d32fa01a",
   "metadata": {},
   "outputs": [],
   "source": [
    "# 计算代码执行时间"
   ]
  },
  {
   "cell_type": "code",
   "execution_count": 23,
   "id": "971957d9",
   "metadata": {},
   "outputs": [
    {
     "name": "stdout",
     "output_type": "stream",
     "text": [
      "Sum: 45\n",
      "Time:  0.0009992122650146484\n"
     ]
    }
   ],
   "source": [
    "import time\n",
    "\n",
    "start_time = time.time()\n",
    "\n",
    "total = 0\n",
    "for i in range(10):\n",
    "  total += i\n",
    "print(\"Sum:\", total)\n",
    "\n",
    "end_time = time.time()\n",
    "time_taken = end_time - start_time\n",
    "print(\"Time: \", time_taken)\n"
   ]
  },
  {
   "cell_type": "code",
   "execution_count": null,
   "id": "74e07b77",
   "metadata": {},
   "outputs": [],
   "source": []
  },
  {
   "cell_type": "code",
   "execution_count": null,
   "id": "d58a1fd3",
   "metadata": {},
   "outputs": [],
   "source": [
    "# 查找出现次数最多的元素"
   ]
  },
  {
   "cell_type": "code",
   "execution_count": 25,
   "id": "8c5f4b5c",
   "metadata": {},
   "outputs": [
    {
     "name": "stdout",
     "output_type": "stream",
     "text": [
      "出现次数最多的元素是: 2\n"
     ]
    }
   ],
   "source": [
    "def most_frequent(list):\n",
    "  return max(set(list), key=list.count)\n",
    "\n",
    "mylist = [1,1,2,3,4,5,6,6,2,2]\n",
    "print(\"出现次数最多的元素是:\", most_frequent(mylist))"
   ]
  },
  {
   "cell_type": "code",
   "execution_count": null,
   "id": "56810b7b",
   "metadata": {},
   "outputs": [],
   "source": []
  },
  {
   "cell_type": "code",
   "execution_count": null,
   "id": "3d3a5980",
   "metadata": {},
   "outputs": [],
   "source": [
    "# 检索列表最后一个元素"
   ]
  },
  {
   "cell_type": "code",
   "execution_count": 28,
   "id": "d3839b2c",
   "metadata": {},
   "outputs": [
    {
     "data": {
      "text/plain": [
       "'pineapple'"
      ]
     },
     "execution_count": 28,
     "metadata": {},
     "output_type": "execute_result"
    }
   ],
   "source": [
    "my_list = ['banana', 'apple', 'orange', 'pineapple']\n",
    "\n",
    "#索引方法\n",
    "my_list[-1]\n",
    "\n",
    "#pop方法\n",
    "my_list.pop()\n",
    "\n"
   ]
  },
  {
   "cell_type": "code",
   "execution_count": null,
   "id": "11d7fe9f",
   "metadata": {},
   "outputs": [],
   "source": []
  },
  {
   "cell_type": "code",
   "execution_count": null,
   "id": "bfddbacb",
   "metadata": {},
   "outputs": [],
   "source": [
    "# 将两个列表转换为字典"
   ]
  },
  {
   "cell_type": "code",
   "execution_count": 29,
   "id": "7f46d08b",
   "metadata": {},
   "outputs": [
    {
     "name": "stdout",
     "output_type": "stream",
     "text": [
      "{1: 'one', 2: 'two', 3: 'three'}\n"
     ]
    }
   ],
   "source": [
    "def list_to_dictionary(keys, values):\n",
    "  return dict(zip(keys, values))\n",
    "\n",
    "list1 = [1, 2, 3]\n",
    "list2 = ['one', 'two', 'three']\n",
    "\n",
    "print(list_to_dictionary(list1, list2))"
   ]
  },
  {
   "cell_type": "code",
   "execution_count": null,
   "id": "2367186a",
   "metadata": {},
   "outputs": [],
   "source": []
  },
  {
   "cell_type": "code",
   "execution_count": null,
   "id": "f274c1e2",
   "metadata": {},
   "outputs": [],
   "source": [
    "# 反转字符串"
   ]
  },
  {
   "cell_type": "code",
   "execution_count": 30,
   "id": "2d9fd53e",
   "metadata": {},
   "outputs": [
    {
     "name": "stdout",
     "output_type": "stream",
     "text": [
      "反转后字符串是: dlroW olleH\n"
     ]
    }
   ],
   "source": [
    "str = \"Hello World\"\n",
    "\n",
    "print(\"反转后字符串是:\", str[::-1])"
   ]
  },
  {
   "cell_type": "code",
   "execution_count": null,
   "id": "8f20efdc",
   "metadata": {},
   "outputs": [],
   "source": []
  },
  {
   "cell_type": "code",
   "execution_count": null,
   "id": "db6c4528",
   "metadata": {},
   "outputs": [],
   "source": [
    "# 字符串列表组成单个字符串"
   ]
  },
  {
   "cell_type": "code",
   "execution_count": 31,
   "id": "422e743f",
   "metadata": {},
   "outputs": [
    {
     "name": "stdout",
     "output_type": "stream",
     "text": [
      "Hello world Ok Bye!\n"
     ]
    }
   ],
   "source": [
    "list = [\"Hello\", \"world\", \"Ok\", \"Bye!\"]\n",
    "combined_string = \" \".join(list)\n",
    "\n",
    "print(combined_string)"
   ]
  },
  {
   "cell_type": "code",
   "execution_count": null,
   "id": "9ebf9866",
   "metadata": {},
   "outputs": [],
   "source": []
  },
  {
   "cell_type": "code",
   "execution_count": null,
   "id": "458ae3ab",
   "metadata": {},
   "outputs": [],
   "source": [
    "# 返回字典缺失键的默认值  字典中的get方法用于返回指定键的值，如果键不在字典中返回默认值 None 或者设置的默认值。"
   ]
  },
  {
   "cell_type": "code",
   "execution_count": 32,
   "id": "85dd3407",
   "metadata": {},
   "outputs": [
    {
     "name": "stdout",
     "output_type": "stream",
     "text": [
      "three\n",
      "原始字典: {1: 'one', 2: 'two', 4: 'four'}\n"
     ]
    }
   ],
   "source": [
    "dict = {1:'one', 2:'two', 4:'four'}\n",
    "\n",
    "#returning three as default value\n",
    "print(dict.get(3, 'three'))\n",
    "\n",
    "print(\"原始字典:\", dict) "
   ]
  },
  {
   "cell_type": "code",
   "execution_count": null,
   "id": "022bc04c",
   "metadata": {},
   "outputs": [],
   "source": []
  },
  {
   "cell_type": "code",
   "execution_count": null,
   "id": "d4979cb8",
   "metadata": {},
   "outputs": [],
   "source": [
    "# 正则表达式用来匹配处理字符串，python中的re模块提供了全部的正则功能。"
   ]
  },
  {
   "cell_type": "code",
   "execution_count": 33,
   "id": "e90f6b42",
   "metadata": {},
   "outputs": [
    {
     "name": "stdout",
     "output_type": "stream",
     "text": [
      "True\n"
     ]
    }
   ],
   "source": [
    "import re\n",
    "\n",
    "text = \"The rain in spain\"\n",
    "result = re.search(\"rain\", text)\n",
    "\n",
    "print(True if result else False)"
   ]
  },
  {
   "cell_type": "code",
   "execution_count": null,
   "id": "328d8745",
   "metadata": {},
   "outputs": [],
   "source": []
  },
  {
   "cell_type": "code",
   "execution_count": null,
   "id": "777a2f01",
   "metadata": {},
   "outputs": [],
   "source": [
    "# 统计字频      判断字符串每个元素出现的次数，可以用collections模块中的Counter方法来实现，非常简洁。"
   ]
  },
  {
   "cell_type": "code",
   "execution_count": 38,
   "id": "99f38707",
   "metadata": {},
   "outputs": [
    {
     "name": "stdout",
     "output_type": "stream",
     "text": [
      "Counter({'a': 3, 'n': 2, 'b': 1})\n"
     ]
    }
   ],
   "source": [
    "from collections import Counter\n",
    "result = Counter('banana')\n",
    "print(result)"
   ]
  },
  {
   "cell_type": "code",
   "execution_count": null,
   "id": "7750d73e",
   "metadata": {},
   "outputs": [],
   "source": []
  },
  {
   "cell_type": "code",
   "execution_count": null,
   "id": "e03b28fe",
   "metadata": {},
   "outputs": [],
   "source": [
    "# 变量的内存占用"
   ]
  },
  {
   "cell_type": "code",
   "execution_count": 39,
   "id": "144c6d26",
   "metadata": {},
   "outputs": [
    {
     "name": "stdout",
     "output_type": "stream",
     "text": [
      "28\n",
      "96\n"
     ]
    }
   ],
   "source": [
    "import sys\n",
    "\n",
    "var1 = 15\n",
    "list1 = [1,2,3,4,5]\n",
    "\n",
    "print(sys.getsizeof(var1))\n",
    "print(sys.getsizeof(list1))"
   ]
  },
  {
   "cell_type": "code",
   "execution_count": null,
   "id": "d9947a12",
   "metadata": {},
   "outputs": [],
   "source": []
  },
  {
   "cell_type": "code",
   "execution_count": null,
   "id": "5b7c297d",
   "metadata": {},
   "outputs": [],
   "source": [
    "# 链式函数调用            在一行代码中调用多个函数。"
   ]
  },
  {
   "cell_type": "code",
   "execution_count": 40,
   "id": "8af547ee",
   "metadata": {},
   "outputs": [
    {
     "name": "stdout",
     "output_type": "stream",
     "text": [
      "15\n"
     ]
    }
   ],
   "source": [
    "def add(a, b):\n",
    "    return a + b\n",
    "\n",
    "def subtract(a, b):\n",
    "    return a - b\n",
    "\n",
    "a, b = 5, 10\n",
    "\n",
    "print((add if b > a else subtract)(a,b))"
   ]
  },
  {
   "cell_type": "code",
   "execution_count": null,
   "id": "c96be628",
   "metadata": {},
   "outputs": [],
   "source": []
  },
  {
   "cell_type": "code",
   "execution_count": null,
   "id": "39c07937",
   "metadata": {},
   "outputs": [],
   "source": [
    "# 科赫雪花"
   ]
  },
  {
   "cell_type": "code",
   "execution_count": 43,
   "id": "a15e5d70",
   "metadata": {},
   "outputs": [],
   "source": [
    "import turtle\n",
    "def kehe(len,n):\n",
    "    if n == 0:\n",
    "        turtle.fd(len)\n",
    "    else:\n",
    "        for i in [0,60,-120,60]:\n",
    "            turtle.left(i)\n",
    "            kehe(len / 3, n - 1)\n",
    "lenth = 500\n",
    "level = 3\n",
    "du = 120\n",
    "def main():\n",
    "    turtle.penup()\n",
    "    turtle.goto(-100,100)\n",
    "    turtle.pensize(2)\n",
    "    turtle.color('green')\n",
    "    turtle.pendown()\n",
    "    kehe(lenth,level)\n",
    "    turtle.right(du)\n",
    "    kehe(lenth, level)\n",
    "    turtle.right(du)\n",
    "    kehe(lenth, level)\n",
    "    turtle.right(du)\n",
    "    turtle.hideturtle()\n",
    "    turtle.done()"
   ]
  },
  {
   "cell_type": "code",
   "execution_count": 44,
   "id": "a9edd2fc",
   "metadata": {},
   "outputs": [],
   "source": [
    "from turtle import Turtle\n",
    "t = Turtle()\n",
    "t.speed(0)\n",
    "#a = 180\n",
    "b = 180\n",
    "for c in range(5):\n",
    " \ta = 9*c\n",
    " \tfor i in range(100):\n",
    " \t\tt.circle(i,a)\n",
    " \t\tt.right(b)\n",
    " \t\tt.circle(i,a)\n",
    " \t\tt.right(b)\n",
    " \t\tt.circle(i,a)\n",
    " \t\tt.right(b)\n",
    " \t\tt.circle(i,a)"
   ]
  },
  {
   "cell_type": "code",
   "execution_count": null,
   "id": "c5d26f1a",
   "metadata": {},
   "outputs": [],
   "source": []
  },
  {
   "cell_type": "code",
   "execution_count": null,
   "id": "4654d7ba",
   "metadata": {},
   "outputs": [],
   "source": [
    "# Python 直接将该入门程序做成了一个包。"
   ]
  },
  {
   "cell_type": "code",
   "execution_count": 45,
   "id": "5f482fa3",
   "metadata": {},
   "outputs": [
    {
     "name": "stdout",
     "output_type": "stream",
     "text": [
      "Hello world!\n"
     ]
    }
   ],
   "source": [
    "import __hello__"
   ]
  },
  {
   "cell_type": "code",
   "execution_count": null,
   "id": "3d4593f1",
   "metadata": {},
   "outputs": [],
   "source": []
  },
  {
   "cell_type": "code",
   "execution_count": null,
   "id": "557966fd",
   "metadata": {},
   "outputs": [],
   "source": [
    "# 合并字符串"
   ]
  },
  {
   "cell_type": "code",
   "execution_count": 46,
   "id": "c7b36c43",
   "metadata": {},
   "outputs": [
    {
     "data": {
      "text/plain": [
       "'abcdefg'"
      ]
     },
     "execution_count": 46,
     "metadata": {},
     "output_type": "execute_result"
    }
   ],
   "source": [
    "x = ['a', 'b', 'c', 'd', 'e', 'f', 'g']\n",
    "''.join(x)"
   ]
  },
  {
   "cell_type": "code",
   "execution_count": null,
   "id": "6e5ac923",
   "metadata": {},
   "outputs": [],
   "source": []
  },
  {
   "cell_type": "code",
   "execution_count": null,
   "id": "db3d1862",
   "metadata": {},
   "outputs": [],
   "source": [
    "# 输出九九乘法表"
   ]
  },
  {
   "cell_type": "code",
   "execution_count": 47,
   "id": "18c07685",
   "metadata": {},
   "outputs": [
    {
     "name": "stdout",
     "output_type": "stream",
     "text": [
      "1*1=1 \n",
      "1*2=2  2*2=4 \n",
      "1*3=3  2*3=6  3*3=9 \n",
      "1*4=4  2*4=8  3*4=12 4*4=16\n",
      "1*5=5  2*5=10 3*5=15 4*5=20 5*5=25\n",
      "1*6=6  2*6=12 3*6=18 4*6=24 5*6=30 6*6=36\n",
      "1*7=7  2*7=14 3*7=21 4*7=28 5*7=35 6*7=42 7*7=49\n",
      "1*8=8  2*8=16 3*8=24 4*8=32 5*8=40 6*8=48 7*8=56 8*8=64\n",
      "1*9=9  2*9=18 3*9=27 4*9=36 5*9=45 6*9=54 7*9=63 8*9=72 9*9=81\n"
     ]
    }
   ],
   "source": [
    "print('\\n'.join([' '.join(['%s*%s=%-2s' % (y, x, x*y) for y in range(1, x+1)]) for x in range(1, 10)]))"
   ]
  },
  {
   "cell_type": "code",
   "execution_count": null,
   "id": "630e1f1f",
   "metadata": {},
   "outputs": [],
   "source": []
  },
  {
   "cell_type": "code",
   "execution_count": null,
   "id": "96f2b2d4",
   "metadata": {},
   "outputs": [],
   "source": [
    "# 一行打印迷宫"
   ]
  },
  {
   "cell_type": "code",
   "execution_count": 49,
   "id": "fce6d4a3",
   "metadata": {},
   "outputs": [
    {
     "name": "stdout",
     "output_type": "stream",
     "text": [
      "╱╲╲╱╱╱╲╲╱╲╲╲╱╱╲╱╲╲╱╱╲╱╱╱╱╱╱╱╱╲╲╲╱╲╱╱╱╱╲╲╲╲╱╱╱╲╱╲╲╲╲╲╱╱╲╱╱╲╱╱╱╲╲╱╲╲╱╱╱╱╱╱╲╱╲╱╲╲╲╱╱╲╱╲╱╱╱╱╱╱╱╲╱╱╲╲╱╲╲╲╲╱╱╱╲╲╱╲╲╱╱╲╱╲╱╲╲╲╲╱╱╲╲╱╱╱╱╱╱╱╲╲╲╲╱╱╱╲╲╲╲╲╲╲╱╲╱╱╲╲╲╱╲╲╲╱╲╲╱╲╲╱╲╲╱╱╲╱╲╱╱╱╱╱╱╲╱╲╱╲╲╱╲╱╲╱╱╲╲╲╲╱╱╲╲╲╱╱╱╲╱╱╱╱╱╱╲╱╱╲╲╱╱╱╲╱╲╲╲╲╲╲╱╱╲╲╱╱╱╱╱╲╲╲╲╱╱╱╱╱╲╱╱╲╱╲╱╱╲╲╱╱╱╱╱╲╱╱╱╲╱╱╲╲╲╲╲╱╱╱╱╲╱╲╲╱╱╲╱╲╱╲╱╲╲╱╱╱╲╲╲╱╲╱╱╲╱╲╱╲╱╲╲╱╱╱╱╱╱╱╱╱╲╱╱╱╱╱╱╲╱╱╱╱╱╱╲╲╱╲╱╲╲╲╲╱╲╱╲╲╱╱╱╲╱╱╱╱╱╱╲╱╲╲╲╲╱╱╲╲╲╲╲╲╲╱╱╲╱╲╱╲╲╲╲╲╱╲╲╱╲╱╲╱╲╱╲╱╲╲╲╱╲╱╲╱╱╲╲╱╲╱╲╱╲╲╱╲╲╲╲╲╲╲╲╱╲╲╱╱╱╲╲╲╱╲╲╱╲╲╲╲╱╲╲╲╲╲╱╲╲╱╲╲╱╲╱╱╲╱╱╱╱╲╲╲╲╱╲╱╱╱╱╱╲╲╱╲╱╲╱╱╲╲╱╲╱╲╱╱╱╲╲╲╲╲╱╲╱╲╱╲╲╱╲╱╲╲╲╲╱╱╲╲╱╲╲╲╲╱╲╱╱╱╲╱╲╱╲╲╲╱╱╲╲╱╲╱╲╱╱╲╲╲╲╱╱╱╲╲╲╲╱╱╱╱╱╱╲╲╲╲╱╱╱╲╲╲╲╲╱╲╲╱╱╱╲╲╱╲╱╲╱╱╱╲╲╲╱╱╲╱╱╱╲╲╲╲╲╱╱╲╱╲╲╱╱╱╲╱╱╲╲╲╱╱╱╱╲╱╱╲╱╱╱╱╲╱╲╱╱╱╱╲╲╲╱╲╱╱╲╲╲╲╲╱╱╱╱╲╲╲╱╱╱╲╲╲╱╱╱╲╲╲╲╲╱╱╱╲╲╱╱╱╲╲╱╱╱╱╱╲╱╱╱╲╱╲╲╱╱╲╲╲╲╱╲╱╲╱╲╲╲╲╲╱╲╱╲╲╲╱╱╲╲╲╱╲╲╱╱╱╱╲╱╲╱╲╱╱╱╲╱╱╱╲╲╲╱╱╲╱╱╱╱╱╱╲╲╱╱╱╱╲╲╱╱╲╱╱╲╱╲╱╲╲╱╲╱╲╱╲╲╲╲╱╱╱╲╱╱╲╱╱╱╲╱╱╲╱╱╲╲╲╱╲╱╲╲╱╲╱╱╱╱╱╱╲╲╱╱╱╱╲╲╱╲╲╲╲╲╱╲╱╲╱╲╱╲╲╲╲╱╱╲╲╲╱╲╱╱╱╲╲╲╲╲╱╲╱╱╲╲╲╲╱╱╲╲╱╱╲╲╲╱╲╱╱╲╱╱╲╱╲╲╱╲╱╲╲╱╱╲╱╱╲╲╱╲╱╲╱╲╱╱╲╲╱╲╲╱╲╲╲╱╲╱╱╲╲╲╲╲╲╱╲╲╲╲╲╲╲╱╱╱╱╲╱╲╱╲╲╱╱╲╱╲╲╱╱╱╲╲╲╲╲╲╱╲╱╱╲╱╱╱╲╲╲╲╱╲╱╱╲╱╱╲╱╲╱╱╲╱╱╲╱╲╲╱╱╱╲╱╱╱╲╲╱╲╲╲╱╱╱╱╱╲╱╲╱╲╲╲╲╲╱╱╱╲╲╱╱╲╲╱╲╲╱╱╲╲╱╲╱╱╱╲╱╲╱╲╱╲╲╲╱╱╲╱╱╱╱╲╱╲╱╲╱╱╲╲╱╱╲╱╱╲╱╱╲╲╲╱╱╱╱╲╲╱╱╲╲╲╱╱╲╱╱╲╲╱╲╲╱╱╱╱╱╲╲╱╱╲╱╱╱╲╲╱╱╱╲╲╲╲╲╱╱╲╲╱╱╲╱╲╲╱╲╱╲╲╱╱╱╱╱╱╱╲╱╱╲╲╲╱╲╱╱╲╲╱╱╲╱╱╲╲╱╲╲╲╲╲╱╲╱╲╲╱╱╱╱╱╱╱╲╲╱╱╱╲╱╱╱╲╲╱╲╲╲╱╲╲╲╱╲╱╱╱╱╲╱╱╱╱╱╲╲╱╱╱╱╲╱╲╲╲╱╱╱\n"
     ]
    }
   ],
   "source": [
    "print(''.join(__import__('random').choice('\\u2571\\u2572') for i in range(50*24)))"
   ]
  },
  {
   "cell_type": "code",
   "execution_count": null,
   "id": "852257eb",
   "metadata": {},
   "outputs": [],
   "source": []
  },
  {
   "cell_type": "code",
   "execution_count": null,
   "id": "e3f291ae",
   "metadata": {},
   "outputs": [],
   "source": []
  },
  {
   "cell_type": "code",
   "execution_count": null,
   "id": "4cdda547",
   "metadata": {},
   "outputs": [],
   "source": []
  },
  {
   "cell_type": "code",
   "execution_count": null,
   "id": "7e4b32a7",
   "metadata": {},
   "outputs": [],
   "source": []
  },
  {
   "cell_type": "code",
   "execution_count": null,
   "id": "2bd3f105",
   "metadata": {},
   "outputs": [],
   "source": []
  },
  {
   "cell_type": "code",
   "execution_count": null,
   "id": "1f52dd1d",
   "metadata": {},
   "outputs": [],
   "source": []
  },
  {
   "cell_type": "code",
   "execution_count": null,
   "id": "28a37936",
   "metadata": {},
   "outputs": [],
   "source": []
  },
  {
   "cell_type": "code",
   "execution_count": null,
   "id": "8e2fe3a6",
   "metadata": {},
   "outputs": [],
   "source": []
  },
  {
   "cell_type": "code",
   "execution_count": null,
   "id": "0e58c25e",
   "metadata": {},
   "outputs": [],
   "source": []
  },
  {
   "cell_type": "code",
   "execution_count": null,
   "id": "c1e1ad3f",
   "metadata": {},
   "outputs": [],
   "source": []
  },
  {
   "cell_type": "code",
   "execution_count": null,
   "id": "3069bf4c",
   "metadata": {},
   "outputs": [],
   "source": [
    "# 金字塔图案程序"
   ]
  },
  {
   "cell_type": "code",
   "execution_count": 54,
   "id": "0b2aaf51",
   "metadata": {},
   "outputs": [
    {
     "name": "stdout",
     "output_type": "stream",
     "text": [
      "        * \r\n",
      "       * * \r\n",
      "      * * * \r\n",
      "     * * * * \r\n",
      "    * * * * * \r\n"
     ]
    }
   ],
   "source": [
    "def pattern(n):\n",
    "      k = 2 * n - 2\n",
    "      for i in range(0,n):\n",
    "           for j in range(0,k):\n",
    "               print(end=\" \")\n",
    "           k = k - 1\n",
    "           for j in range(0, i+1):\n",
    "                print(\"*\", end=\" \")\n",
    "           print(\"\\r\")\n",
    " \n",
    "pattern(5)"
   ]
  },
  {
   "cell_type": "code",
   "execution_count": null,
   "id": "918652b1",
   "metadata": {},
   "outputs": [],
   "source": []
  },
  {
   "cell_type": "code",
   "execution_count": null,
   "id": "a2ad800e",
   "metadata": {},
   "outputs": [],
   "source": [
    "# 反金字塔图案程序"
   ]
  },
  {
   "cell_type": "code",
   "execution_count": 55,
   "id": "9507b3f5",
   "metadata": {},
   "outputs": [
    {
     "name": "stdout",
     "output_type": "stream",
     "text": [
      "        * * * * * * \r\n",
      "         * * * * * \r\n",
      "          * * * * \r\n",
      "           * * * \r\n",
      "            * * \r\n",
      "             * \r\n"
     ]
    }
   ],
   "source": [
    "def pattern(n):\n",
    "      k = 2*n -2\n",
    "      for i in range(n,-1,-1):\n",
    "           for j in range(k,0,-1):\n",
    "                print(end=\" \")\n",
    "           k = k +1\n",
    "           for j in range(0, i+1):\n",
    "                print(\"*\", end=\" \")\n",
    "           print(\"\\r\")\n",
    " \n",
    "pattern(5)"
   ]
  },
  {
   "cell_type": "code",
   "execution_count": null,
   "id": "35d45653",
   "metadata": {},
   "outputs": [],
   "source": []
  },
  {
   "cell_type": "code",
   "execution_count": null,
   "id": "7b96a79f",
   "metadata": {},
   "outputs": [],
   "source": [
    "# 正确启动模式程序"
   ]
  },
  {
   "cell_type": "code",
   "execution_count": 56,
   "id": "171ec8b5",
   "metadata": {},
   "outputs": [
    {
     "name": "stdout",
     "output_type": "stream",
     "text": [
      "* \r\n",
      "* * \r\n",
      "* * * \r\n",
      "* * * * \r\n",
      "* * * * * \r\n",
      "* * * * * * \r\n",
      "* * * * * \r\n",
      "* * * * \r\n",
      "* * * \r\n",
      "* * \r\n"
     ]
    }
   ],
   "source": [
    "def pattern(n):\n",
    "      for i in range(0, n):\n",
    "           for j in range(0, i + 1):\n",
    "                print(\"* \", end=\"\")\n",
    "           print(\"\\r\")\n",
    "      for i in range(n, 0 , -1):\n",
    "          for j in range(0, i + 1):\n",
    "               print(\"* \", end=\"\")\n",
    "          print(\"\\r\")\n",
    " \n",
    "pattern(5)"
   ]
  },
  {
   "cell_type": "code",
   "execution_count": null,
   "id": "b40b1fb2",
   "metadata": {},
   "outputs": [],
   "source": []
  },
  {
   "cell_type": "code",
   "execution_count": null,
   "id": "f26fe448",
   "metadata": {},
   "outputs": [],
   "source": [
    "# 左启动模式程序"
   ]
  },
  {
   "cell_type": "code",
   "execution_count": 57,
   "id": "ecaf8dcb",
   "metadata": {},
   "outputs": [
    {
     "name": "stdout",
     "output_type": "stream",
     "text": [
      "        * \r\n",
      "      * * \r\n",
      "    * * * \r\n",
      "  * * * * \r\n",
      "* * * * * \r\n",
      "  * * * * \r\n",
      "    * * * \r\n",
      "      * * \r\n",
      "        * \r\n"
     ]
    }
   ],
   "source": [
    "def pattern(n):\n",
    "    k = 2 * n - 2\n",
    "    for i in range(0, n-1):\n",
    "        for j in range(0, k):\n",
    "            print(end=\" \")\n",
    "        k = k - 2\n",
    "        for j in range(0, i + 1):\n",
    "            print(\"* \", end=\"\")\n",
    "        print(\"\\r\")\n",
    "    k = -1\n",
    "    for i in range(n-1,-1,-1):\n",
    "        for j in range(k,-1,-1):\n",
    "            print(end=\" \")\n",
    "        k = k + 2\n",
    "        for j in range(0, i + 1):\n",
    "            print(\"* \", end=\"\")\n",
    "        print(\"\\r\")\n",
    " \n",
    "pattern(5)"
   ]
  },
  {
   "cell_type": "code",
   "execution_count": null,
   "id": "ee256d4d",
   "metadata": {},
   "outputs": [],
   "source": []
  },
  {
   "cell_type": "code",
   "execution_count": null,
   "id": "c0a3783a",
   "metadata": {},
   "outputs": [],
   "source": [
    "# 半金字塔图案程序"
   ]
  },
  {
   "cell_type": "code",
   "execution_count": 64,
   "id": "a2f1594d",
   "metadata": {},
   "outputs": [
    {
     "name": "stdout",
     "output_type": "stream",
     "text": [
      "* \r\n",
      "* * \r\n",
      "* * * \r\n",
      "* * * * \r\n",
      "* * * * * \r\n"
     ]
    }
   ],
   "source": [
    "def pattern(n):\n",
    "     for i in range(0,n):\n",
    "         for j in range(0, i+1):\n",
    "              print(\"* \" , end=\"\")\n",
    "         print(\"\\r\")\n",
    " \n",
    "pattern(5)"
   ]
  },
  {
   "cell_type": "code",
   "execution_count": null,
   "id": "970d267f",
   "metadata": {},
   "outputs": [],
   "source": []
  },
  {
   "cell_type": "code",
   "execution_count": null,
   "id": "dea282c2",
   "metadata": {},
   "outputs": [],
   "source": [
    "# 左半金字塔图案程序"
   ]
  },
  {
   "cell_type": "code",
   "execution_count": 67,
   "id": "1c026ac6",
   "metadata": {},
   "outputs": [
    {
     "name": "stdout",
     "output_type": "stream",
     "text": [
      "        * \r\n",
      "      * * \r\n",
      "    * * * \r\n",
      "  * * * * \r\n",
      "* * * * * \r\n"
     ]
    }
   ],
   "source": [
    "def pattern(n):\n",
    "     k = 2 * n - 2\n",
    "     for i in range(0, n):\n",
    "          for j in range(0, k):\n",
    "               print(end=\" \")\n",
    "          k = k - 2\n",
    "          for j in range(0, i + 1):\n",
    "              print(\"* \", end=\"\")\n",
    "          print(\"\\r\")\n",
    " \n",
    "pattern(5)"
   ]
  },
  {
   "cell_type": "code",
   "execution_count": null,
   "id": "2dec56c0",
   "metadata": {},
   "outputs": [],
   "source": []
  },
  {
   "cell_type": "code",
   "execution_count": null,
   "id": "d1e32528",
   "metadata": {},
   "outputs": [],
   "source": [
    "# 向下半金字塔图案程序"
   ]
  },
  {
   "cell_type": "code",
   "execution_count": 68,
   "id": "b0a8aa52",
   "metadata": {},
   "outputs": [
    {
     "name": "stdout",
     "output_type": "stream",
     "text": [
      "* * * * * * \r\n",
      "* * * * * \r\n",
      "* * * * \r\n",
      "* * * \r\n",
      "* * \r\n",
      "* \r\n"
     ]
    }
   ],
   "source": [
    "def pattern(n):\n",
    "      for i in range(n, -1, -1):\n",
    "           for j in range(0, i + 1):\n",
    "               print(\"* \", end=\"\")\n",
    "           print(\"\\r\")\n",
    " \n",
    "pattern(5)"
   ]
  },
  {
   "cell_type": "code",
   "execution_count": null,
   "id": "913f4789",
   "metadata": {},
   "outputs": [],
   "source": []
  },
  {
   "cell_type": "code",
   "execution_count": null,
   "id": "f54bae8d",
   "metadata": {},
   "outputs": [],
   "source": [
    "# 菱形图案程序"
   ]
  },
  {
   "cell_type": "code",
   "execution_count": 78,
   "id": "25999763",
   "metadata": {},
   "outputs": [
    {
     "name": "stdout",
     "output_type": "stream",
     "text": [
      "        * \r\n",
      "       * * \r\n",
      "      * * * \r\n",
      "     * * * * \r\n",
      "    * * * * * \r\n",
      "   * * * * * * \r\n",
      "    * * * * * \r\n",
      "     * * * * \r\n",
      "      * * * \r\n",
      "       * * \r\n",
      "        * \r\n"
     ]
    }
   ],
   "source": [
    "def pattern(n):\n",
    "     k = 2 * n - 2\n",
    "     for i in range(0, n):\n",
    "          for j in range(0 , k):\n",
    "               print(end=\" \")\n",
    "          k = k - 1\n",
    "          for j in range(0 , i + 1 ):\n",
    "               print(\"* \", end=\"\")\n",
    "          print(\"\\r\")\n",
    "     k = n - 2\n",
    "     for i in range(n , -1, -1):\n",
    "          for j in range(k , 0 , -1): \n",
    "               print(end=\" \")\n",
    "          k+= 1\n",
    "          for j in range(0 , i + 1):\n",
    "                print(\"* \", end=\"\")\n",
    "          print(\"\\r\")\n",
    " \n",
    "pattern(5)"
   ]
  },
  {
   "cell_type": "code",
   "execution_count": null,
   "id": "1c780da9",
   "metadata": {},
   "outputs": [],
   "source": []
  },
  {
   "cell_type": "code",
   "execution_count": null,
   "id": "0874a08d",
   "metadata": {},
   "outputs": [],
   "source": [
    "# 沙漏图案程序"
   ]
  },
  {
   "cell_type": "code",
   "execution_count": 106,
   "id": "c99fa6d5",
   "metadata": {},
   "outputs": [
    {
     "name": "stdout",
     "output_type": "stream",
     "text": [
      "   * * * * * * \r\n",
      "    * * * * * \r\n",
      "     * * * * \r\n",
      "      * * * \r\n",
      "       * * \r\n",
      "        * \r\n",
      "* \r\n",
      "* * \r\n",
      "* * * \r\n",
      "* * * * \r\n",
      "* * * * * \r\n",
      "* * * * * * \r\n"
     ]
    }
   ],
   "source": [
    "def pattern(n):\n",
    "     k = n - 2\n",
    "     for i in range(n, -1 , -1):\n",
    "        for j in range(k , 0 , -1):\n",
    "            print(end=\" \")\n",
    "        k = k + 1   \n",
    "        for j in range(0, i+1):\n",
    "            print(\"* \" , end=\"\")\n",
    "        print(\"\\r\")\n",
    "     k = 2 * n  - 2\n",
    "     for i in range(0 , n+1):\n",
    "         for j in range(0 , k):\n",
    "            print(end=\"\")\n",
    "         k = k - 1\n",
    "         for j in range(0, i + 1):\n",
    "            print(\"* \", end=\"\")\n",
    "         print(\"\\r\")   \n",
    "pattern(5)"
   ]
  },
  {
   "cell_type": "code",
   "execution_count": null,
   "id": "5b08b8c1",
   "metadata": {},
   "outputs": [],
   "source": []
  },
  {
   "cell_type": "code",
   "execution_count": null,
   "id": "57ee4d09",
   "metadata": {},
   "outputs": [],
   "source": [
    "# 钻石星型"
   ]
  },
  {
   "cell_type": "code",
   "execution_count": 88,
   "id": "0953ecba",
   "metadata": {},
   "outputs": [
    {
     "name": "stdout",
     "output_type": "stream",
     "text": [
      "  *  \n",
      " * * \n",
      "*   *\n",
      " * * \n",
      "  *  \n"
     ]
    }
   ],
   "source": [
    "for i in range(5):\n",
    "    for j in range(5):\n",
    "        if i + j == 2 or i - j == 2 or i + j == 6 or j - i == 2:\n",
    "            print(\"*\", end=\"\")\n",
    "        else:\n",
    "            print(end=\" \")\n",
    "    print()"
   ]
  },
  {
   "cell_type": "code",
   "execution_count": null,
   "id": "eab6c9b2",
   "metadata": {},
   "outputs": [],
   "source": []
  },
  {
   "cell_type": "code",
   "execution_count": null,
   "id": "f9d51450",
   "metadata": {},
   "outputs": [],
   "source": []
  },
  {
   "cell_type": "code",
   "execution_count": null,
   "id": "e7857b5d",
   "metadata": {},
   "outputs": [],
   "source": [
    "# 二进制数字模式程序"
   ]
  },
  {
   "cell_type": "code",
   "execution_count": 107,
   "id": "0d487a61",
   "metadata": {},
   "outputs": [
    {
     "name": "stdout",
     "output_type": "stream",
     "text": [
      "        10\r\n",
      "       1010\r\n",
      "      101010\r\n",
      "     10101010\r\n",
      "    1010101010\r\n"
     ]
    }
   ],
   "source": [
    "def pattern(n):\n",
    "    k = 2 * n - 2\n",
    "    for i in range(0, n):\n",
    "        for j in range(0, k):\n",
    "            print(end=\" \")\n",
    "        k = k - 1\n",
    "        for j in range(0, i + 1):\n",
    "            print('10', end=\"\")\n",
    " \n",
    "        print(\"\\r\")\n",
    " \n",
    "pattern(5)"
   ]
  },
  {
   "cell_type": "code",
   "execution_count": null,
   "id": "53116943",
   "metadata": {},
   "outputs": [],
   "source": []
  },
  {
   "cell_type": "code",
   "execution_count": null,
   "id": "746f978e",
   "metadata": {},
   "outputs": [],
   "source": []
  },
  {
   "cell_type": "code",
   "execution_count": null,
   "id": "2ae4c99a",
   "metadata": {},
   "outputs": [],
   "source": []
  },
  {
   "cell_type": "code",
   "execution_count": null,
   "id": "bf1c6a82",
   "metadata": {},
   "outputs": [],
   "source": []
  },
  {
   "cell_type": "code",
   "execution_count": null,
   "id": "38cad4ab",
   "metadata": {},
   "outputs": [],
   "source": []
  },
  {
   "cell_type": "code",
   "execution_count": null,
   "id": "b322f4a0",
   "metadata": {},
   "outputs": [],
   "source": []
  }
 ],
 "metadata": {
  "kernelspec": {
   "display_name": "Python 3",
   "language": "python",
   "name": "python3"
  },
  "language_info": {
   "codemirror_mode": {
    "name": "ipython",
    "version": 3
   },
   "file_extension": ".py",
   "mimetype": "text/x-python",
   "name": "python",
   "nbconvert_exporter": "python",
   "pygments_lexer": "ipython3",
   "version": "3.8.8"
  }
 },
 "nbformat": 4,
 "nbformat_minor": 5
}
